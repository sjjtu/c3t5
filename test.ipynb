{
 "cells": [
  {
   "cell_type": "code",
   "execution_count": 1,
   "metadata": {},
   "outputs": [],
   "source": [
    "import requests\n",
    "from io import StringIO\n",
    "import pandas as pd\n",
    "import plotly.express as px\n",
    "from DataPrepper import DataPrepperWasserportal, get_all_stations"
   ]
  },
  {
   "cell_type": "code",
   "execution_count": 12,
   "metadata": {},
   "outputs": [
    {
     "ename": "AttributeError",
     "evalue": "'Series' object has no attribute 'to_numeric'",
     "output_type": "error",
     "traceback": [
      "\u001B[1;31m---------------------------------------------------------------------------\u001B[0m",
      "\u001B[1;31mAttributeError\u001B[0m                            Traceback (most recent call last)",
      "\u001B[1;32m<ipython-input-12-2da14227bac8>\u001B[0m in \u001B[0;36m<module>\u001B[1;34m\u001B[0m\n\u001B[0;32m      5\u001B[0m \u001B[0mdp\u001B[0m \u001B[1;33m=\u001B[0m \u001B[0mDataPrepperWasserportal\u001B[0m\u001B[1;33m(\u001B[0m\u001B[0mbase\u001B[0m\u001B[1;33m)\u001B[0m\u001B[1;33m\u001B[0m\u001B[1;33m\u001B[0m\u001B[0m\n\u001B[0;32m      6\u001B[0m \u001B[0mfig\u001B[0m \u001B[1;33m=\u001B[0m \u001B[0mdp\u001B[0m\u001B[1;33m.\u001B[0m\u001B[0mget_daily_data\u001B[0m\u001B[1;33m(\u001B[0m\u001B[0mmeasurement\u001B[0m\u001B[1;33m,\u001B[0m \u001B[0mstationid\u001B[0m\u001B[1;33m,\u001B[0m \u001B[0mfrom_when\u001B[0m\u001B[1;33m)\u001B[0m\u001B[1;33m\u001B[0m\u001B[1;33m\u001B[0m\u001B[0m\n\u001B[1;32m----> 7\u001B[1;33m \u001B[0mfig\u001B[0m\u001B[1;33m[\u001B[0m\u001B[1;34m\"Tagesminimum\"\u001B[0m\u001B[1;33m]\u001B[0m\u001B[1;33m.\u001B[0m\u001B[0mto_numeric\u001B[0m\u001B[1;33m(\u001B[0m\u001B[1;33m)\u001B[0m\u001B[1;33m\u001B[0m\u001B[1;33m\u001B[0m\u001B[0m\n\u001B[0m",
      "\u001B[1;32mc:\\users\\asd\\pycharmprojects\\c3t5\\venv\\lib\\site-packages\\pandas\\core\\generic.py\u001B[0m in \u001B[0;36m__getattr__\u001B[1;34m(self, name)\u001B[0m\n\u001B[0;32m   5460\u001B[0m             \u001B[1;32mif\u001B[0m \u001B[0mself\u001B[0m\u001B[1;33m.\u001B[0m\u001B[0m_info_axis\u001B[0m\u001B[1;33m.\u001B[0m\u001B[0m_can_hold_identifiers_and_holds_name\u001B[0m\u001B[1;33m(\u001B[0m\u001B[0mname\u001B[0m\u001B[1;33m)\u001B[0m\u001B[1;33m:\u001B[0m\u001B[1;33m\u001B[0m\u001B[1;33m\u001B[0m\u001B[0m\n\u001B[0;32m   5461\u001B[0m                 \u001B[1;32mreturn\u001B[0m \u001B[0mself\u001B[0m\u001B[1;33m[\u001B[0m\u001B[0mname\u001B[0m\u001B[1;33m]\u001B[0m\u001B[1;33m\u001B[0m\u001B[1;33m\u001B[0m\u001B[0m\n\u001B[1;32m-> 5462\u001B[1;33m             \u001B[1;32mreturn\u001B[0m \u001B[0mobject\u001B[0m\u001B[1;33m.\u001B[0m\u001B[0m__getattribute__\u001B[0m\u001B[1;33m(\u001B[0m\u001B[0mself\u001B[0m\u001B[1;33m,\u001B[0m \u001B[0mname\u001B[0m\u001B[1;33m)\u001B[0m\u001B[1;33m\u001B[0m\u001B[1;33m\u001B[0m\u001B[0m\n\u001B[0m\u001B[0;32m   5463\u001B[0m \u001B[1;33m\u001B[0m\u001B[0m\n\u001B[0;32m   5464\u001B[0m     \u001B[1;32mdef\u001B[0m \u001B[0m__setattr__\u001B[0m\u001B[1;33m(\u001B[0m\u001B[0mself\u001B[0m\u001B[1;33m,\u001B[0m \u001B[0mname\u001B[0m\u001B[1;33m:\u001B[0m \u001B[0mstr\u001B[0m\u001B[1;33m,\u001B[0m \u001B[0mvalue\u001B[0m\u001B[1;33m)\u001B[0m \u001B[1;33m->\u001B[0m \u001B[1;32mNone\u001B[0m\u001B[1;33m:\u001B[0m\u001B[1;33m\u001B[0m\u001B[1;33m\u001B[0m\u001B[0m\n",
      "\u001B[1;31mAttributeError\u001B[0m: 'Series' object has no attribute 'to_numeric'"
     ]
    }
   ],
   "source": [
    "base = \"https://wasserportal.berlin.de/station.php?\"\n",
    "measurement = \"td\"\n",
    "stationid = \"5865900\"\n",
    "from_when = \"21.01.2021\"\n",
    "dp = DataPrepperWasserportal(base)\n",
    "fig = dp.get_daily_data(measurement, stationid, from_when)\n",
    "fig[\"Tagesminimum\"].to_numeric()"
   ]
  },
  {
   "cell_type": "code",
   "execution_count": 26,
   "metadata": {},
   "outputs": [
    {
     "data": {
      "text/plain": [
       "{'coord': {'lon': 18.0649, 'lat': 59.3326},\n",
       " 'weather': [{'id': 601,\n",
       "   'main': 'Snow',\n",
       "   'description': 'snow',\n",
       "   'icon': '13d'}],\n",
       " 'base': 'stations',\n",
       " 'main': {'temp': -0.01,\n",
       "  'feels_like': -5.96,\n",
       "  'temp_min': -0.56,\n",
       "  'temp_max': 0.56,\n",
       "  'pressure': 993,\n",
       "  'humidity': 100},\n",
       " 'visibility': 1000,\n",
       " 'wind': {'speed': 5.66, 'deg': 300},\n",
       " 'snow': {'1h': 0.42},\n",
       " 'clouds': {'all': 90},\n",
       " 'dt': 1611576350,\n",
       " 'sys': {'type': 1,\n",
       "  'id': 1788,\n",
       "  'country': 'SE',\n",
       "  'sunrise': 1611558772,\n",
       "  'sunset': 1611586020},\n",
       " 'timezone': 3600,\n",
       " 'id': 2673730,\n",
       " 'name': 'Stockholm',\n",
       " 'cod': 200}"
      ]
     },
     "execution_count": 26,
     "metadata": {},
     "output_type": "execute_result"
    }
   ],
   "source": [
    "r =requests.get(\"https://api.openweathermap.org/data/2.5/weather?q=stockholm&appid=087ee414dd8c90c4abb99b25872c5680&units=metric\")\n",
    "j = r.json()\n",
    "j"
   ]
  },
  {
   "cell_type": "code",
   "execution_count": null,
   "outputs": [],
   "source": [
    "df = pd.read_csv(\"station.csv\", header=None, encoding=\"windows-1252\")\n",
    "df.rename(columns={0: \"id\", 1: \"name\"}, inplace=True)\n",
    "df.drop_duplicates(inplace=True)\n",
    "df"
   ],
   "metadata": {
    "collapsed": false,
    "pycharm": {
     "name": "#%%\n"
    }
   }
  },
  {
   "cell_type": "code",
   "execution_count": null,
   "outputs": [],
   "source": [
    "l = []\n",
    "for index, row in df.iterrows():\n",
    "    l.append({\"label\": row[\"name\"], \"value\": row.id})\n",
    "l"
   ],
   "metadata": {
    "collapsed": false,
    "pycharm": {
     "name": "#%%\n"
    }
   }
  },
  {
   "cell_type": "code",
   "execution_count": null,
   "outputs": [],
   "source": [
    "get_all_stations()"
   ],
   "metadata": {
    "collapsed": false,
    "pycharm": {
     "name": "#%%\n"
    }
   }
  },
  {
   "cell_type": "code",
   "execution_count": 6,
   "metadata": {
    "scrolled": true
   },
   "outputs": [
    {
     "data": {
      "text/html": [
       "<div>\n",
       "<style scoped>\n",
       "    .dataframe tbody tr th:only-of-type {\n",
       "        vertical-align: middle;\n",
       "    }\n",
       "\n",
       "    .dataframe tbody tr th {\n",
       "        vertical-align: top;\n",
       "    }\n",
       "\n",
       "    .dataframe thead th {\n",
       "        text-align: right;\n",
       "    }\n",
       "</style>\n",
       "<table border=\"1\" class=\"dataframe\">\n",
       "  <thead>\n",
       "    <tr style=\"text-align: right;\">\n",
       "      <th></th>\n",
       "      <th>id</th>\n",
       "      <th>name</th>\n",
       "      <th>2</th>\n",
       "      <th>3</th>\n",
       "      <th>4</th>\n",
       "    </tr>\n",
       "  </thead>\n",
       "  <tbody>\n",
       "    <tr>\n",
       "      <th>0</th>\n",
       "      <td>5827103</td>\n",
       "      <td>Allendestraße</td>\n",
       "      <td>404795.21</td>\n",
       "      <td>5811909.21</td>\n",
       "      <td>Wasserstand,Durchfluss</td>\n",
       "    </tr>\n",
       "    <tr>\n",
       "      <th>1</th>\n",
       "      <td>5865300</td>\n",
       "      <td>Am Bahndamm</td>\n",
       "      <td>403271.12</td>\n",
       "      <td>5813053.06</td>\n",
       "      <td>Wasserstand,Durchfluss,Wassertemperatur</td>\n",
       "    </tr>\n",
       "    <tr>\n",
       "      <th>2</th>\n",
       "      <td>5819900</td>\n",
       "      <td>Am Freibad</td>\n",
       "      <td>386931.73</td>\n",
       "      <td>5831192.51</td>\n",
       "      <td>Wasserstand</td>\n",
       "    </tr>\n",
       "    <tr>\n",
       "      <th>3</th>\n",
       "      <td>5864801</td>\n",
       "      <td>Am Kienberg</td>\n",
       "      <td>404194.04</td>\n",
       "      <td>5821307.64</td>\n",
       "      <td>Wasserstand,Durchfluss</td>\n",
       "    </tr>\n",
       "    <tr>\n",
       "      <th>4</th>\n",
       "      <td>5861101</td>\n",
       "      <td>Am Reitweg</td>\n",
       "      <td>406469.15</td>\n",
       "      <td>5814072.15</td>\n",
       "      <td>Wasserstand</td>\n",
       "    </tr>\n",
       "    <tr>\n",
       "      <th>...</th>\n",
       "      <td>...</td>\n",
       "      <td>...</td>\n",
       "      <td>...</td>\n",
       "      <td>...</td>\n",
       "      <td>...</td>\n",
       "    </tr>\n",
       "    <tr>\n",
       "      <th>315</th>\n",
       "      <td>5800314</td>\n",
       "      <td>Weißer See</td>\n",
       "      <td>395805.17</td>\n",
       "      <td>5823636.09</td>\n",
       "      <td>Wasserstand</td>\n",
       "    </tr>\n",
       "    <tr>\n",
       "      <th>316</th>\n",
       "      <td>5861200</td>\n",
       "      <td>Wiesengrund</td>\n",
       "      <td>406342.52</td>\n",
       "      <td>5813564.61</td>\n",
       "      <td>Wasserstand,Durchfluss,Wassertemperatur</td>\n",
       "    </tr>\n",
       "    <tr>\n",
       "      <th>317</th>\n",
       "      <td>5867001</td>\n",
       "      <td>Wiltbergstraße</td>\n",
       "      <td>398145.45</td>\n",
       "      <td>5832796.70</td>\n",
       "      <td>Wasserstand</td>\n",
       "    </tr>\n",
       "    <tr>\n",
       "      <th>318</th>\n",
       "      <td>5864800</td>\n",
       "      <td>Wuhletal</td>\n",
       "      <td>403189.53</td>\n",
       "      <td>5818963.00</td>\n",
       "      <td>Wasserstand,Durchfluss,Wassertemperatur</td>\n",
       "    </tr>\n",
       "    <tr>\n",
       "      <th>319</th>\n",
       "      <td>5866301</td>\n",
       "      <td>Zoo</td>\n",
       "      <td>387247.69</td>\n",
       "      <td>5819111.30</td>\n",
       "      <td>Wasserstand,Durchfluss</td>\n",
       "    </tr>\n",
       "  </tbody>\n",
       "</table>\n",
       "<p>65 rows × 5 columns</p>\n",
       "</div>"
      ],
      "text/plain": [
       "          id            name          2           3  \\\n",
       "0    5827103   Allendestraße  404795.21  5811909.21   \n",
       "1    5865300     Am Bahndamm  403271.12  5813053.06   \n",
       "2    5819900      Am Freibad  386931.73  5831192.51   \n",
       "3    5864801     Am Kienberg  404194.04  5821307.64   \n",
       "4    5861101      Am Reitweg  406469.15  5814072.15   \n",
       "..       ...             ...        ...         ...   \n",
       "315  5800314      Weißer See  395805.17  5823636.09   \n",
       "316  5861200     Wiesengrund  406342.52  5813564.61   \n",
       "317  5867001  Wiltbergstraße  398145.45  5832796.70   \n",
       "318  5864800        Wuhletal  403189.53  5818963.00   \n",
       "319  5866301             Zoo  387247.69  5819111.30   \n",
       "\n",
       "                                           4  \n",
       "0                     Wasserstand,Durchfluss  \n",
       "1    Wasserstand,Durchfluss,Wassertemperatur  \n",
       "2                                Wasserstand  \n",
       "3                     Wasserstand,Durchfluss  \n",
       "4                                Wasserstand  \n",
       "..                                       ...  \n",
       "315                              Wasserstand  \n",
       "316  Wasserstand,Durchfluss,Wassertemperatur  \n",
       "317                              Wasserstand  \n",
       "318  Wasserstand,Durchfluss,Wassertemperatur  \n",
       "319                   Wasserstand,Durchfluss  \n",
       "\n",
       "[65 rows x 5 columns]"
      ]
     },
     "execution_count": 6,
     "metadata": {},
     "output_type": "execute_result"
    }
   ],
   "source": []
  },
  {
   "cell_type": "code",
   "execution_count": 10,
   "metadata": {},
   "outputs": [
    {
     "data": {
      "text/plain": [
       "[{'label': 'Allendestraße', 'value': 5827103},\n",
       " {'label': 'Am Bahndamm', 'value': 5865300},\n",
       " {'label': 'Am Freibad', 'value': 5819900},\n",
       " {'label': 'Am Kienberg', 'value': 5864801},\n",
       " {'label': 'Am Reitweg', 'value': 5861101},\n",
       " {'label': 'Am Wolfsschluchtkanal', 'value': 5800107},\n",
       " {'label': 'Biesdorfer Baggersee', 'value': 5800317},\n",
       " {'label': 'Bürgerpark', 'value': 5867401},\n",
       " {'label': 'Dianasee', 'value': 5800301},\n",
       " {'label': 'Dreipfuhl', 'value': 5800302},\n",
       " {'label': 'Eisenacher Straße', 'value': 5863000},\n",
       " {'label': 'Eisenbahnbrücke', 'value': 5867900},\n",
       " {'label': 'Fähre Rahnsdorf', 'value': 5827101},\n",
       " {'label': 'Fennpfuhl', 'value': 5800320},\n",
       " {'label': 'Fennsee', 'value': 5800313},\n",
       " {'label': 'Flaischlenstraße', 'value': 5867101},\n",
       " {'label': 'Flughafensee', 'value': 5800303},\n",
       " {'label': 'Gosener Landstraße', 'value': 5826702},\n",
       " {'label': 'Groß Glienicker See', 'value': 5800305},\n",
       " {'label': 'Grunewaldsee', 'value': 5800304},\n",
       " {'label': 'Halensee', 'value': 5800306},\n",
       " {'label': 'Hegemeisterweg', 'value': 5861000},\n",
       " {'label': 'Heinersdorf', 'value': 5867300},\n",
       " {'label': 'Hoppendorfer Straße', 'value': 5865200},\n",
       " {'label': 'Krontaler Straße', 'value': 5867100},\n",
       " {'label': 'Krummendammbrücke', 'value': 5869700},\n",
       " {'label': 'Kühnemannstraße', 'value': 5867500},\n",
       " {'label': 'Lichterfelde', 'value': 5870100},\n",
       " {'label': 'Lietzensee', 'value': 5800309},\n",
       " {'label': 'Lübars', 'value': 5819901},\n",
       " {'label': 'Malchower See', 'value': 5800318},\n",
       " {'label': 'MPS Berlin-Spandauer-Schifffahrtskanal', 'value': 601},\n",
       " {'label': 'MPS Caprivibrücke', 'value': 151},\n",
       " {'label': 'MPS Charlottenburg', 'value': 153},\n",
       " {'label': 'MPS Landwehrkanal', 'value': 509},\n",
       " {'label': 'MPS Neuköllner Schifffahrtskanal', 'value': 504},\n",
       " {'label': 'MPS Teltowkanal', 'value': 414},\n",
       " {'label': 'MS Mühlendammschleuse', 'value': 141},\n",
       " {'label': 'MS Rahnsdorf', 'value': 111},\n",
       " {'label': 'MS Schmöckwitz', 'value': 211},\n",
       " {'label': 'MS Sophienwerder', 'value': 161},\n",
       " {'label': 'MS Teltow-Werft', 'value': 421},\n",
       " {'label': 'Neue Fahlenbergbrücke', 'value': 5826701},\n",
       " {'label': 'Obersee', 'value': 5800315},\n",
       " {'label': 'Orankesee', 'value': 5800316},\n",
       " {'label': 'Pasewalker Brücke', 'value': 5867700},\n",
       " {'label': 'Pfaueninsel', 'value': 5803500},\n",
       " {'label': 'Plötzensee', 'value': 5800312},\n",
       " {'label': 'Röntgental', 'value': 5867000},\n",
       " {'label': 'Schäfersee', 'value': 5800106},\n",
       " {'label': 'Schleuse Neukölln OP', 'value': 5866700},\n",
       " {'label': 'Schleuse Neukölln UP', 'value': 5866800},\n",
       " {'label': 'Schmöckwitz US', 'value': 5862811},\n",
       " {'label': 'Sophienwerder', 'value': 5827700},\n",
       " {'label': 'St.-Joseph-Steg', 'value': 5820000},\n",
       " {'label': 'Tiefwerder', 'value': 5803200},\n",
       " {'label': 'Venturigerinne', 'value': 5867301},\n",
       " {'label': 'Verteiler OP', 'value': 5867201},\n",
       " {'label': 'Verteiler UP', 'value': 5867202},\n",
       " {'label': 'Waldsee Zehlendorf', 'value': 5800310},\n",
       " {'label': 'Weißer See', 'value': 5800314},\n",
       " {'label': 'Wiesengrund', 'value': 5861200},\n",
       " {'label': 'Wiltbergstraße', 'value': 5867001},\n",
       " {'label': 'Wuhletal', 'value': 5864800},\n",
       " {'label': 'Zoo', 'value': 5866301}]"
      ]
     },
     "execution_count": 10,
     "metadata": {},
     "output_type": "execute_result"
    }
   ],
   "source": [
    "l = []\n",
    "for index, row in df.iterrows():\n",
    "    l.append({\"label\": row[\"name\"], \"value\": row.id})\n",
    "l"
   ]
  },
  {
   "cell_type": "code",
   "execution_count": 2,
   "metadata": {},
   "outputs": [
    {
     "data": {
      "text/plain": [
       "[{'label': 0, 'value': 5827103},\n",
       " {'label': 1, 'value': 5865300},\n",
       " {'label': 2, 'value': 5819900},\n",
       " {'label': 3, 'value': 5864801},\n",
       " {'label': 4, 'value': 5861101},\n",
       " {'label': 5, 'value': 5800107},\n",
       " {'label': 6, 'value': 5800317},\n",
       " {'label': 7, 'value': 5867401},\n",
       " {'label': 8, 'value': 5800301},\n",
       " {'label': 9, 'value': 5800302},\n",
       " {'label': 10, 'value': 5863000},\n",
       " {'label': 11, 'value': 5867900},\n",
       " {'label': 12, 'value': 5827101},\n",
       " {'label': 13, 'value': 5800320},\n",
       " {'label': 14, 'value': 5800313},\n",
       " {'label': 15, 'value': 5867101},\n",
       " {'label': 16, 'value': 5800303},\n",
       " {'label': 17, 'value': 5826702},\n",
       " {'label': 18, 'value': 5800305},\n",
       " {'label': 19, 'value': 5800304},\n",
       " {'label': 20, 'value': 5800306},\n",
       " {'label': 276, 'value': 5861000},\n",
       " {'label': 277, 'value': 5867300},\n",
       " {'label': 278, 'value': 5865200},\n",
       " {'label': 279, 'value': 5867100},\n",
       " {'label': 280, 'value': 5869700},\n",
       " {'label': 281, 'value': 5867500},\n",
       " {'label': 282, 'value': 5870100},\n",
       " {'label': 283, 'value': 5800309},\n",
       " {'label': 284, 'value': 5819901},\n",
       " {'label': 285, 'value': 5800318},\n",
       " {'label': 286, 'value': 601},\n",
       " {'label': 287, 'value': 151},\n",
       " {'label': 288, 'value': 153},\n",
       " {'label': 289, 'value': 509},\n",
       " {'label': 290, 'value': 504},\n",
       " {'label': 291, 'value': 414},\n",
       " {'label': 292, 'value': 141},\n",
       " {'label': 293, 'value': 111},\n",
       " {'label': 294, 'value': 211},\n",
       " {'label': 295, 'value': 161},\n",
       " {'label': 296, 'value': 421},\n",
       " {'label': 297, 'value': 5826701},\n",
       " {'label': 298, 'value': 5800315},\n",
       " {'label': 299, 'value': 5800316},\n",
       " {'label': 300, 'value': 5867700},\n",
       " {'label': 301, 'value': 5803500},\n",
       " {'label': 302, 'value': 5800312},\n",
       " {'label': 303, 'value': 5867000},\n",
       " {'label': 304, 'value': 5800106},\n",
       " {'label': 305, 'value': 5866700},\n",
       " {'label': 306, 'value': 5866800},\n",
       " {'label': 307, 'value': 5862811},\n",
       " {'label': 308, 'value': 5827700},\n",
       " {'label': 309, 'value': 5820000},\n",
       " {'label': 310, 'value': 5803200},\n",
       " {'label': 311, 'value': 5867301},\n",
       " {'label': 312, 'value': 5867201},\n",
       " {'label': 313, 'value': 5867202},\n",
       " {'label': 314, 'value': 5800310},\n",
       " {'label': 315, 'value': 5800314},\n",
       " {'label': 316, 'value': 5861200},\n",
       " {'label': 317, 'value': 5867001},\n",
       " {'label': 318, 'value': 5864800},\n",
       " {'label': 319, 'value': 5866301}]"
      ]
     },
     "execution_count": 2,
     "metadata": {},
     "output_type": "execute_result"
    }
   ],
   "source": [
    "get_all_stations()"
   ]
  },
  {
   "cell_type": "code",
   "execution_count": null,
   "metadata": {},
   "outputs": [],
   "source": []
  }
 ],
 "metadata": {
  "kernelspec": {
   "display_name": "Python 3",
   "language": "python",
   "name": "python3"
  },
  "language_info": {
   "codemirror_mode": {
    "name": "ipython",
    "version": 3
   },
   "file_extension": ".py",
   "mimetype": "text/x-python",
   "name": "python",
   "nbconvert_exporter": "python",
   "pygments_lexer": "ipython3",
   "version": "3.7.7"
  },
  "pycharm": {
   "stem_cell": {
    "cell_type": "raw",
    "source": [
     "base = \"https://wasserportal.berlin.de/start.php\"\n",
     "base\n",
     "\n",
     "\n",
     "\n"
    ],
    "metadata": {
     "collapsed": false
    }
   }
  }
 },
 "nbformat": 4,
 "nbformat_minor": 1
}